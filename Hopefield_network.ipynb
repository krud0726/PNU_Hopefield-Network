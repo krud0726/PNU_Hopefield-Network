{
 "cells": [
  {
   "cell_type": "markdown",
   "metadata": {},
   "source": [
    "# [ Hopefield Network ]\n",
    "### 1.패턴그룹 3의 숫자를 이용하여 홉필드 프로그램을 작성하였습니다.\n",
    "### 2.노이즈를 첨가하고, 비동기적인 갱신이 실행될 때마다 출력의 변화를 디스플레이 하였습니다."
   ]
  },
  {
   "cell_type": "code",
   "execution_count": 46,
   "metadata": {},
   "outputs": [],
   "source": [
    "import random\n",
    "import numpy as np\n",
    "import matplotlib.pyplot as plt\n",
    "import cv2\n",
    "import import_ipynb\n",
    "from keras.utils import np_utils\n",
    "from PIL import Image"
   ]
  },
  {
   "cell_type": "code",
   "execution_count": 47,
   "metadata": {},
   "outputs": [],
   "source": [
    "# 호필드 네트워크\n",
    "class HN():\n",
    "     \n",
    "    # 호필드 네트워크를 초기화하는 함수입니다.\n",
    "    def __init__(self, train_data):\n",
    "        # 이미지 개수\n",
    "        self.num = train_data.shape[0]   \n",
    "        # 이미지의 열의 갯수\n",
    "        self.col = train_data.shape[1]   \n",
    "        # 우리가 생성한 이미지를 grayscale 시켜 입력에 알맞은 형태로 만들어줍니다.\n",
    "        self.train_data = train_data.reshape(train_data.shape[0], 100) / 255.0   \n",
    "       \n",
    "        # 가중치 ,임계점, 에너지 \n",
    "        self.weight = list()         \n",
    "        self.threshold = list()          \n",
    "        self.e = 0            \n",
    "        \n",
    "    # Threshold를 계산하는 함수입니다.\n",
    "    def Threshold(self):\n",
    "        # 반복문을 통해 PDF 임계치 공식을 구현하였습니다.\n",
    "        for i in range(0, self.weight.shape[0]) :            \n",
    "            self.threshold.append(-0.5 * sum(self.weight[i]))\n",
    "            \n",
    "        return self.threshold\n",
    "    \n",
    "        \n",
    "    # 가중치를 생성 및 계산하는 함수입니다.\n",
    "    def calculate_Weight(self):\n",
    "        # 우리는 일단 0과 1로 구성되어 있는 입력데이터를 bipolar형태로 바꾸어 주기 위해서\n",
    "        # 아래의 문장을 실행합니다.\n",
    "        # 아래의 공식은 pdf에 나온 공식을 이용하였습니다.\n",
    "        weight_cal = 2 * self.train_data - 1\n",
    "        \n",
    "\n",
    "        # pdf에 나온것처럼 i와 j가 같을 경우 0을 대입합니다.\n",
    "        # 그렇지 않을 경우 pdf 공식처럼 bipolar 값을 각각 곱하여 시그마를 취해줍니다.\n",
    "        for r in range(0, weight_cal.shape[0]) :\n",
    "            weight_list = list()\n",
    "            \n",
    "            for i in range(0, weight_cal.shape[1]) :\n",
    "                for j in range(0, weight_cal.shape[1]) :\n",
    "                    if (i == j) :\n",
    "                        weight_list.append(0)\n",
    "                    else :\n",
    "                        weight_list.append(weight_cal[r][i] * weight_cal[r][j])\n",
    "            self.weight.insert(r, weight_list)\n",
    "        \n",
    "        # 시그마에 해당하는 부분입니다.\n",
    "        # 곱한 bipolar 값을 시그마를 취해주는 과정입니다.\n",
    "        self.weight = np.array(self.weight)\n",
    "        t = self.weight[0]\n",
    "        \n",
    "        # 반복문을 통해 시그마를 구현하였습니다.\n",
    "        for i in range(1, self.num) :\n",
    "            t += self.weight[i]\n",
    "        \n",
    "        # 가중치를 변경시킵니다.\n",
    "        self.weight = t\n",
    "        # 가중치행렬의 모양을 입력데이터에 알맞게 변경시켜 줍니다.\n",
    "        # 100 x 100\n",
    "        self.weight = np.array(self.weight).reshape(self.train_data.shape[1], self.train_data.shape[1])\n",
    "        \n",
    "        return self.weight\n",
    "    \n",
    "    \n",
    "    # 호필드에서는 에러가 쓰이지 않고 에너지가 사용됩니다\n",
    "    # 에너지는 낮을 수록 좋으며,그러한 에너지를 계산하는 함수입니다. \n",
    "    def calculate_energy(self, unit):\n",
    "        e = list()\n",
    "        # 세타 x X \n",
    "        theta = np.dot(self.threshold, unit)\n",
    "        for i in range(0, len(unit)) :\n",
    "            e.append(np.dot(-0.5 * self.weight[i], unit[i] * unit) + theta)\n",
    "\n",
    "        self.e = sum(e)\n",
    "        return self.e\n",
    "\n",
    "    \n",
    "    # net값 계산\n",
    "    def calculate_net(self, unit):\n",
    "        \n",
    "        unit = unit[0]\n",
    "        transpose_weigtht = self.weight.T\n",
    "        elist = list()\n",
    "        # 이미지들을 담을 리스트\n",
    "        imgiplist = list()           \n",
    "        \n",
    "        # 반복문을 통해 net 값을 구하고 상태를 업데이트 해주는 부분\n",
    "        for i in range(0, self.weight.shape[0]) : \n",
    "            unit_next = np.dot(unit, transpose_weigtht[i]) + self.threshold[i]\n",
    "            \n",
    "            # 해당 결과값이 0보다 큰 경우 1로 설정합니다.\n",
    "            if (unit_next > 0) :\n",
    "                unit[i] = 1\n",
    "            # 해당 결과값이 0보다 작은 경우 0 설정합니다.\n",
    "            elif (unit_next < 0) : \n",
    "                unit[i] = 0\n",
    "            \n",
    "            # 비동기적 갱신의 결과를 출력하기 위해서 데이터를 \n",
    "            # 이전의 형태에 맞게 설정해줍니다. (  greyscale 이미지로 변환 )\n",
    "            if (i % 25 == 0 or i == 99):\n",
    "                e = self.calculate_energy(unit)\n",
    "                elist.append(e)\n",
    "                show_img = unit.reshape(10, 10) * 255\n",
    "                imgiplist.append(Image.fromarray(show_img.astype('uint8'), 'L'))      \n",
    "        \n",
    "        # 출력할 이미지의 사이즈를 설정해주는 부분\n",
    "        rows = 1\n",
    "        cols = 6\n",
    "        fig = plt.figure(figsize=(13,13))             \n",
    "             \n",
    "        # 각각의 이미지에 대한 설정을 지정합니다. \n",
    "        for i in range(0, len(imgiplist)):\n",
    "            ax = fig.add_subplot(rows, cols, i+1)      \n",
    "            ax.imshow(imgiplist[i])\n",
    "            ax.set_title(\"Energy : \" + str(elist[i]), fontsize = 10)    \n",
    "            ax.set_xticks([]), ax.set_yticks([])  \n",
    "        \n",
    "        # 이미지 출력\n",
    "        fig.tight_layout()                            \n",
    "        plt.show()\n",
    "\n",
    "        return unit\n",
    "    "
   ]
  },
  {
   "cell_type": "code",
   "execution_count": 48,
   "metadata": {},
   "outputs": [
    {
     "data": {
      "image/png": "[encoded data removed]",
      "text/plain": [
       "<Figure size 504x504 with 4 Axes>"
      ]
     },
     "metadata": {
      "needs_background": "light"
     },
     "output_type": "display_data"
    }
   ],
   "source": [
    "# 입력할 이미지 파일들을 불러옵니다.\n",
    "folder_path = './num/'\n",
    "imglist = list()\n",
    "y_train = list()\n",
    "labels = [\"0\", \"1\", \"2\", \"3\"]\n",
    "label_len = len(labels)\n",
    "\n",
    "# 이미지를 출력하기전에 각각의 이미지에 대해 GrayScale합니다.\n",
    "for i in range(label_len):\n",
    "    imgpath = folder_path + str(i) + '.png'\n",
    "    img = cv2.imread(imgpath, cv2.IMREAD_GRAYSCALE)\n",
    "    img = cv2.resize(255-img, (10,10))\n",
    "    imglist.append(img)\n",
    "\n",
    "\n",
    "# 이미지 크기를 지정합니다.\n",
    "fig = plt.figure(figsize=(7,7))\n",
    "\n",
    "# 해당되는 이미지를 출력하기위해 subplot을 추가하고,\n",
    "# label, fontsize, 여백등을 설정하여 최종 이미지를 출력합니다.\n",
    "for i in range(0, len(imglist)):\n",
    "    show_img = fig.add_subplot(1, 4, i+1)\n",
    "    show_img.imshow(imglist[i])\n",
    "    show_img.set_title(labels[i], fontsize = 12)\n",
    "    show_img.set_xticks([]), ax.set_yticks([])\n",
    "\n",
    "# 이미지 출력\n",
    "fig.tight_layout()\n",
    "plt.show()\n",
    "\n",
    "train_data = np.array(imglist)"
   ]
  },
  {
   "cell_type": "code",
   "execution_count": 49,
   "metadata": {
    "scrolled": false
   },
   "outputs": [],
   "source": [
    "# 호필드네트워크에 이전에 가져왔던 파일들을 입력으로 하여 학습을 진행합니다.\n",
    "hp = HN(train_data)\n",
    "weight = hp.calculate_Weight()\n",
    "\n",
    "# threshold를 계산합니다.\n",
    "thres = hp.Threshold()"
   ]
  },
  {
   "cell_type": "code",
   "execution_count": 50,
   "metadata": {},
   "outputs": [],
   "source": [
    "# 지정된 %만큼 이미지를 변형하는 함수 - 노이즈 첨가\n",
    "def insert_noise(data, noise) : \n",
    "    data = data.reshape(1, 100) / 255.0\n",
    "    number = data.shape[1] * noise\n",
    "    number = int(number)\n",
    "    \n",
    "    # 이미지 크기의 %만큼 랜덤적으로 노이즈를 생성합니다.\n",
    "    for_noise = random.sample(range(0, 100), number)\n",
    "    \n",
    "    for i in range(0, len(for_noise)) :\n",
    "        datan = data[0][for_noise[i]]\n",
    "        \n",
    "    # 이미지에 노이즈를 추가합니다.\n",
    "        if (datan == 0) : \n",
    "            datan = 1\n",
    "        else :\n",
    "            datan = 0\n",
    "        data[0][for_noise[i]] = datan\n",
    "    \n",
    "    return data"
   ]
  },
  {
   "cell_type": "code",
   "execution_count": 51,
   "metadata": {
    "scrolled": false
   },
   "outputs": [
    {
     "data": {
      "image/png": "[encoded data removed]",
      "text/plain": [
       "<Figure size 360x360 with 4 Axes>"
      ]
     },
     "metadata": {},
     "output_type": "display_data"
    },
    {
     "data": {
      "image/png": "[encoded data removed]",
      "text/plain": [
       "<Figure size 360x360 with 4 Axes>"
      ]
     },
     "metadata": {},
     "output_type": "display_data"
    }
   ],
   "source": [
    "# 지정된 노이즈 수 만큼 이미지 변형\n",
    "num_list = list()\n",
    "num_data = list()\n",
    "\n",
    "datalist = list()\n",
    "noise_data = list()\n",
    "datalabel = [\"before\", \"noise\"]\n",
    "\n",
    "# 30%의 노이즈를 첨가하고 grayscale을 적용합니다.\n",
    "for i in range(0, len(train_data)):\n",
    "    num_list.append(insert_noise(train_data[i], 0.3))\n",
    "    num_data.append(num_list[i].reshape(10, 10) * 255)\n",
    "    datalist.append(Image.fromarray(train_data[i].astype('uint8'), 'L'))   # before_noise -> grayscale 적용\n",
    "    noise_data.append(Image.fromarray(num_data[i].astype('uint8'), 'L'))    # noise -> grayscale 적용\n",
    "\n",
    "# 노이즈 첨가 전 이미지 출력\n",
    "\n",
    "# 이미지 사이즈 설정\n",
    "fig = plt.figure(figsize=(5, 5))\n",
    "\n",
    "# 해당되는 이미지를 출력하기위해 subplot을 추가하고,\n",
    "# label, fontsize, 여백등을 설정하여 최종 이미지를 출력합니다.\n",
    "for i in range(0, len(datalist)):\n",
    "    show = fig.add_subplot(1, 4, i+1)\n",
    "    show.imshow(datalist[i])\n",
    "    show.set_title(datalabel[0] + \" \" + str(i), fontsize = 12)\n",
    "    show.set_xticks([]), show.set_yticks([])\n",
    "\n",
    "# 이미지 출력\n",
    "fig.tight_layout()\n",
    "plt.show()\n",
    "\n",
    "# noise 이미지 크기 설정\n",
    "fig = plt.figure(figsize=(5, 5))\n",
    "\n",
    "# 해당되는 이미지를 출력하기위해 subplot을 추가하고,\n",
    "# label, fontsize, 여백등을 설정하여 최종 이미지를 출력합니다.\n",
    "for i in range(0, len(noise_data)):\n",
    "    show = fig.add_subplot(1, 4, i+1)\n",
    "    show.imshow(noise_data[i])\n",
    "    show.set_title(datalabel[1] + \" \" + str(i), fontsize = 12)\n",
    "    show.set_xticks([]), show.set_yticks([])\n",
    "\n",
    "fig.tight_layout()                             # subplot간 간격 겹치지 않게 설정\n",
    "plt.show()\n"
   ]
  },
  {
   "cell_type": "code",
   "execution_count": 52,
   "metadata": {
    "scrolled": false
   },
   "outputs": [
    {
     "data": {
      "image/png": "[encoded data removed]",
      "text/plain": [
       "<Figure size 936x936 with 5 Axes>"
      ]
     },
     "metadata": {},
     "output_type": "display_data"
    },
    {
     "data": {
      "image/png": "[encoded data removed]",
      "text/plain": [
       "<Figure size 936x936 with 5 Axes>"
      ]
     },
     "metadata": {},
     "output_type": "display_data"
    },
    {
     "data": {
      "image/png": "[encoded data removed]",
      "text/plain": [
       "<Figure size 936x936 with 5 Axes>"
      ]
     },
     "metadata": {},
     "output_type": "display_data"
    },
    {
     "data": {
      "image/png": "[encoded data removed]",
      "text/plain": [
       "<Figure size 936x936 with 5 Axes>"
      ]
     },
     "metadata": {},
     "output_type": "display_data"
    }
   ],
   "source": [
    "#노이즈가 섞인 숫자를 입력하여 업데이트 하도록 합니다.\n",
    "noise_data = num_list\n",
    "\n",
    "for i in range(0, len(noise_data)):\n",
    "    update_data = hp.calculate_net(noise_data[i])"
   ]
  }
 ],
 "metadata": {
  "kernelspec": {
   "display_name": "Python 3",
   "language": "python",
   "name": "python3"
  },
  "language_info": {
   "codemirror_mode": {
    "name": "ipython",
    "version": 3
   },
   "file_extension": ".py",
   "mimetype": "text/x-python",
   "name": "python",
   "nbconvert_exporter": "python",
   "pygments_lexer": "ipython3",
   "version": "3.8.1"
  },
  "toc": {
   "base_numbering": 1,
   "nav_menu": {},
   "number_sections": true,
   "sideBar": true,
   "skip_h1_title": false,
   "title_cell": "Table of Contents",
   "title_sidebar": "Contents",
   "toc_cell": false,
   "toc_position": {},
   "toc_section_display": true,
   "toc_window_display": false
  },
  "varInspector": {
   "cols": {
    "lenName": 16,
    "lenType": 16,
    "lenVar": 40
   },
   "kernels_config": {
    "python": {
     "delete_cmd_postfix": "",
     "delete_cmd_prefix": "del ",
     "library": "var_list.py",
     "varRefreshCmd": "print(var_dic_list())"
    },
    "r": {
     "delete_cmd_postfix": ") ",
     "delete_cmd_prefix": "rm(",
     "library": "var_list.r",
     "varRefreshCmd": "cat(var_dic_list()) "
    }
   },
   "types_to_exclude": [
    "module",
    "function",
    "builtin_function_or_method",
    "instance",
    "_Feature"
   ],
   "window_display": false
  }
 },
 "nbformat": 4,
 "nbformat_minor": 4
}
